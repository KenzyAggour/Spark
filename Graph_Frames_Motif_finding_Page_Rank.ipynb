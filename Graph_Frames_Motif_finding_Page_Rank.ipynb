{
  "cells": [
    {
      "cell_type": "markdown",
      "id": "779b346d",
      "metadata": {
        "id": "779b346d"
      },
      "source": [
        "## The following section is for Colab Users.\n",
        "### Just run the following code cells"
      ]
    },
    {
      "cell_type": "code",
      "execution_count": 1,
      "id": "7d73eb01",
      "metadata": {
        "id": "7d73eb01",
        "colab": {
          "base_uri": "https://localhost:8080/"
        },
        "outputId": "22a6ed51-fba6-442e-f46c-1a7de8821714"
      },
      "outputs": [
        {
          "output_type": "stream",
          "name": "stdout",
          "text": [
            "\u001b[2K     \u001b[90m━━━━━━━━━━━━━━━━━━━━━━━━━━━━━━━━━━━━━━━━\u001b[0m \u001b[32m317.0/317.0 MB\u001b[0m \u001b[31m2.5 MB/s\u001b[0m eta \u001b[36m0:00:00\u001b[0m\n",
            "\u001b[?25h  Preparing metadata (setup.py) ... \u001b[?25l\u001b[?25hdone\n",
            "\u001b[2K     \u001b[90m━━━━━━━━━━━━━━━━━━━━━━━━━━━━━━━━━━━━━━━━\u001b[0m \u001b[32m154.7/154.7 kB\u001b[0m \u001b[31m16.7 MB/s\u001b[0m eta \u001b[36m0:00:00\u001b[0m\n",
            "\u001b[?25h  Building wheel for pyspark (setup.py) ... \u001b[?25l\u001b[?25hdone\n"
          ]
        }
      ],
      "source": [
        "!apt-get install openjdk-11-jdk-headless -qq > /dev/null\n",
        "!wget -q https://bitbucket.org/habedi/datasets/raw/b6769c4664e7ff68b001e2f43bc517888cbe3642/spark/spark-3.0.2-bin-hadoop2.7.tgz\n",
        "!tar xf spark-3.0.2-bin-hadoop2.7.tgz\n",
        "!rm -rf spark-3.0.2-bin-hadoop2.7.tgz*\n",
        "!pip -q install findspark pyspark graphframes"
      ]
    },
    {
      "cell_type": "code",
      "execution_count": 2,
      "id": "299e0d6a",
      "metadata": {
        "id": "299e0d6a",
        "colab": {
          "base_uri": "https://localhost:8080/"
        },
        "outputId": "49f94fc3-9970-46d2-9c70-1ed8b995dbbf"
      },
      "outputs": [
        {
          "output_type": "stream",
          "name": "stdout",
          "text": [
            "--2024-06-25 21:29:36--  https://repos.spark-packages.org/graphframes/graphframes/0.8.2-spark3.0-s_2.12/graphframes-0.8.2-spark3.0-s_2.12.jar\n",
            "Resolving repos.spark-packages.org (repos.spark-packages.org)... 52.85.151.57, 52.85.151.5, 52.85.151.46, ...\n",
            "Connecting to repos.spark-packages.org (repos.spark-packages.org)|52.85.151.57|:443... connected.\n",
            "HTTP request sent, awaiting response... 200 OK\n",
            "Length: 247882 (242K) [binary/octet-stream]\n",
            "Saving to: ‘/content/spark-3.0.2-bin-hadoop2.7/jars/graphframes-0.8.2-spark3.0-s_2.12.jar’\n",
            "\n",
            "\r          graphfram   0%[                    ]       0  --.-KB/s               \rgraphframes-0.8.2-s 100%[===================>] 242.07K  --.-KB/s    in 0.007s  \n",
            "\n",
            "2024-06-25 21:29:36 (33.2 MB/s) - ‘/content/spark-3.0.2-bin-hadoop2.7/jars/graphframes-0.8.2-spark3.0-s_2.12.jar’ saved [247882/247882]\n",
            "\n"
          ]
        }
      ],
      "source": [
        "!wget https://repos.spark-packages.org/graphframes/graphframes/0.8.2-spark3.0-s_2.12/graphframes-0.8.2-spark3.0-s_2.12.jar -P /content/spark-3.0.2-bin-hadoop2.7/jars/\n",
        "!cp /content/spark-3.0.2-bin-hadoop2.7/jars/graphframes-0.8.2-spark3.0-s_2.12.jar /content/spark-3.0.2-bin-hadoop2.7/graphframes-0.8.2-spark3.0-s_2.12.zip"
      ]
    },
    {
      "cell_type": "code",
      "execution_count": 3,
      "id": "ee0d39ec",
      "metadata": {
        "id": "ee0d39ec"
      },
      "outputs": [],
      "source": [
        "import os\n",
        "\n",
        "os.environ[\"JAVA_HOME\"] = \"/usr/lib/jvm/java-11-openjdk-amd64\"\n",
        "os.environ[\"SPARK_HOME\"] = \"/content/spark-3.0.2-bin-hadoop2.7\"\n",
        "os.environ[\"HADOOP_HOME\"] = os.environ[\"SPARK_HOME\"]\n",
        "\n",
        "os.environ[\"PYSPARK_DRIVER_PYTHON\"] = \"jupyter\"\n",
        "os.environ[\"PYSPARK_DRIVER_PYTHON_OPTS\"] = \"notebook\"\n",
        "os.environ[\"PYSPARK_SUBMIT_ARGS\"] = \"--master local[*] pyspark-shell\""
      ]
    },
    {
      "cell_type": "code",
      "execution_count": 4,
      "id": "7136d8e6",
      "metadata": {
        "id": "7136d8e6"
      },
      "outputs": [],
      "source": [
        "import findspark\n",
        "findspark.init()"
      ]
    },
    {
      "cell_type": "code",
      "execution_count": 5,
      "id": "92f3e19b",
      "metadata": {
        "id": "92f3e19b"
      },
      "outputs": [],
      "source": [
        "!export PYSPARK_SUBMIT_ARGS=\"--master local[*] pyspark-shell\"\n",
        "!export PYSPARK_DRIVER_PYTHON=jupyter\n",
        "!export PYSPARK_DRIVER_PYTHON_OPTS=notebook"
      ]
    },
    {
      "cell_type": "code",
      "execution_count": 6,
      "id": "f1504ff4",
      "metadata": {
        "id": "f1504ff4"
      },
      "outputs": [],
      "source": [
        "from pyspark.sql import SparkSession\n",
        "from graphframes import *\n",
        "\n",
        "spark = SparkSession.builder.master(\"local[*]\").appName(\"GraphFrames\").getOrCreate()"
      ]
    },
    {
      "cell_type": "code",
      "execution_count": 7,
      "id": "252db99a",
      "metadata": {
        "id": "252db99a"
      },
      "outputs": [],
      "source": [
        "os.environ[\"PYSPARK_SUBMIT_ARGS\"] = \"--packages graphframes:graphframes:0.8.1-spark3.0-s_2.12 pyspark-shell\""
      ]
    },
    {
      "cell_type": "markdown",
      "id": "66232934",
      "metadata": {
        "id": "66232934"
      },
      "source": [
        "**************************************************************************\n",
        "**************************************************************************\n",
        "**************************************************************************"
      ]
    },
    {
      "cell_type": "code",
      "execution_count": 8,
      "id": "2a0819b3",
      "metadata": {
        "id": "2a0819b3",
        "outputId": "4ffcbd4f-b436-4a6a-9afa-0c19cfac4d06",
        "colab": {
          "base_uri": "https://localhost:8080/",
          "height": 17
        }
      },
      "outputs": [
        {
          "output_type": "display_data",
          "data": {
            "text/plain": [
              "<IPython.core.display.HTML object>"
            ],
            "text/html": [
              "<style>pre { white-space: pre !important; }</style>"
            ]
          },
          "metadata": {}
        }
      ],
      "source": [
        "from IPython.display import display, HTML\n",
        "display(HTML(\"<style>pre { white-space: pre !important; }</style>\"))"
      ]
    },
    {
      "cell_type": "markdown",
      "id": "d7f57da0",
      "metadata": {
        "id": "d7f57da0"
      },
      "source": [
        "### Read departuredelays.csv in Edge DataFrame\n",
        "### Read airport-codes-na.txt in Vertix DataFrame (the separator is Tab i.e sep = '\\t' )"
      ]
    },
    {
      "cell_type": "markdown",
      "id": "631c334e",
      "metadata": {
        "id": "631c334e"
      },
      "source": [
        "#### The US flight delays data set has five columns:\n",
        "- The <b>date</b> column contains an integer like 02190925 . When converted, this maps to 02-19 09:25 am.\n",
        "- The <b>delay</b> column gives the delay in minutes between the scheduled and actual departure times. Early departures show negative numbers.\n",
        "- The <b>distance</b> column gives the distance in miles from the origin airport to the destination airport.\n",
        "- The <b>origin</b> column contains the origin IATA airport code.\n",
        "- The <b>destination</b> column contains the destination IATA airport code.\n",
        "\n",
        "#### The airport-codes data set has four columns:\n",
        "- The <b>IATA</b> column contains IATA airport code.\n",
        "- The <b>City, State, and Country</b> columns contains information about the airport location."
      ]
    },
    {
      "cell_type": "code",
      "execution_count": 9,
      "id": "30f02a5a",
      "metadata": {
        "id": "30f02a5a"
      },
      "outputs": [],
      "source": [
        "spark = SparkSession.builder \\\n",
        "    .appName(\"Read DataFrames\") \\\n",
        "    .getOrCreate()"
      ]
    },
    {
      "cell_type": "code",
      "source": [
        "edge_df = spark.read.csv('/content/departuredelays.csv', header=True, inferSchema=True)"
      ],
      "metadata": {
        "id": "VPLWBK9QbY4r"
      },
      "id": "VPLWBK9QbY4r",
      "execution_count": 10,
      "outputs": []
    },
    {
      "cell_type": "code",
      "source": [
        "edge_df.printSchema()"
      ],
      "metadata": {
        "colab": {
          "base_uri": "https://localhost:8080/"
        },
        "id": "NESsqopGbjAG",
        "outputId": "4fc86677-0c98-4406-e509-d430f30d39a4"
      },
      "id": "NESsqopGbjAG",
      "execution_count": 12,
      "outputs": [
        {
          "output_type": "stream",
          "name": "stdout",
          "text": [
            "root\n",
            " |-- date: integer (nullable = true)\n",
            " |-- delay: integer (nullable = true)\n",
            " |-- distance: integer (nullable = true)\n",
            " |-- origin: string (nullable = true)\n",
            " |-- destination: string (nullable = true)\n",
            "\n"
          ]
        }
      ]
    },
    {
      "cell_type": "code",
      "source": [
        "vertex_df = spark.read.csv('/content/airport-codes-na.txt', sep='\\t', header=True, inferSchema=True)"
      ],
      "metadata": {
        "id": "5X8RsHztbbao"
      },
      "id": "5X8RsHztbbao",
      "execution_count": 11,
      "outputs": []
    },
    {
      "cell_type": "markdown",
      "id": "e1d90463",
      "metadata": {
        "id": "e1d90463"
      },
      "source": [
        "### In the vertix DataFrame, drop any duplicated rows with the same  IATA code."
      ]
    },
    {
      "cell_type": "code",
      "execution_count": 13,
      "id": "15571db4",
      "metadata": {
        "id": "15571db4"
      },
      "outputs": [],
      "source": [
        "vertex_df = vertex_df.dropDuplicates([\"IATA\"])"
      ]
    },
    {
      "cell_type": "markdown",
      "id": "83d1dea8",
      "metadata": {
        "id": "83d1dea8"
      },
      "source": [
        "### In the edges DataFrame:\n",
        "- Rename the <b>date</b> columns to become <b>tripid</b>.\n",
        "- Rename the <b>origin</b> columns to become <b>src</b>.\n",
        "- Rename the <b>destination</b> columns to become <b>dst</b>."
      ]
    },
    {
      "cell_type": "code",
      "execution_count": 14,
      "id": "5319e844",
      "metadata": {
        "id": "5319e844"
      },
      "outputs": [],
      "source": [
        "edge_df = edge_df \\\n",
        "    .withColumnRenamed(\"date\", \"tripid\") \\\n",
        "    .withColumnRenamed(\"origin\", \"src\") \\\n",
        "    .withColumnRenamed(\"destination\", \"dst\")"
      ]
    },
    {
      "cell_type": "markdown",
      "id": "260660dc",
      "metadata": {
        "id": "260660dc"
      },
      "source": [
        "### In the Vertix DataFrame:\n",
        "- Rename the <b>IATA</b> columns to become <b>id</b>."
      ]
    },
    {
      "cell_type": "code",
      "execution_count": 15,
      "id": "42846969",
      "metadata": {
        "scrolled": false,
        "id": "42846969"
      },
      "outputs": [],
      "source": [
        "vertex_df = vertex_df.withColumnRenamed(\"IATA\", \"id\")"
      ]
    },
    {
      "cell_type": "markdown",
      "id": "4b50a1fe",
      "metadata": {
        "id": "4b50a1fe"
      },
      "source": [
        "### Create GraphFrame from Vertix and Edges DataFrames"
      ]
    },
    {
      "cell_type": "code",
      "execution_count": 16,
      "id": "72be9d09",
      "metadata": {
        "id": "72be9d09",
        "colab": {
          "base_uri": "https://localhost:8080/"
        },
        "outputId": "0623b774-b5ab-4a32-95de-eee2acdb5d34"
      },
      "outputs": [
        {
          "output_type": "stream",
          "name": "stdout",
          "text": [
            "+-------------------+-----+-------+---+\n",
            "|               City|State|Country| id|\n",
            "+-------------------+-----+-------+---+\n",
            "|         Binghamton|   NY|    USA|BGM|\n",
            "|            Lebanon|   NH|    USA|LEB|\n",
            "|           Montreal|   PQ| Canada|YUL|\n",
            "|         Dillingham|   AK|    USA|DLG|\n",
            "|International Falls|   MN|    USA|INL|\n",
            "|         Wolf Point|   MT|    USA|OLF|\n",
            "|        New Orleans|   LA|    USA|MSY|\n",
            "|            Toronto|   ON| Canada|YTO|\n",
            "|            Spokane|   WA|    USA|GEG|\n",
            "|              Havre|   MT|    USA|HVR|\n",
            "|            Burbank|   CA|    USA|BUR|\n",
            "|      Orange County|   CA|    USA|SNA|\n",
            "|             Dryden|   ON| Canada|YHD|\n",
            "|         Fort Dodge|   IA|    USA|FOD|\n",
            "|          Green Bay|   WI|    USA|GRB|\n",
            "|        Great Falls|   MT|    USA|GTF|\n",
            "|              Homer|   AK|    USA|HOM|\n",
            "|        Idaho Falls|   ID|    USA|IDA|\n",
            "|      Sioux Lookout|   ON| Canada|YXL|\n",
            "|       Grand Rapids|   MI|    USA|GRR|\n",
            "+-------------------+-----+-------+---+\n",
            "only showing top 20 rows\n",
            "\n",
            "+-------+-----+--------+---+---+\n",
            "| tripid|delay|distance|src|dst|\n",
            "+-------+-----+--------+---+---+\n",
            "|1011245|    6|     602|ABE|ATL|\n",
            "|1020600|   -8|     369|ABE|DTW|\n",
            "|1021245|   -2|     602|ABE|ATL|\n",
            "|1020605|   -4|     602|ABE|ATL|\n",
            "|1031245|   -4|     602|ABE|ATL|\n",
            "|1030605|    0|     602|ABE|ATL|\n",
            "|1041243|   10|     602|ABE|ATL|\n",
            "|1040605|   28|     602|ABE|ATL|\n",
            "|1051245|   88|     602|ABE|ATL|\n",
            "|1050605|    9|     602|ABE|ATL|\n",
            "|1061215|   -6|     602|ABE|ATL|\n",
            "|1061725|   69|     602|ABE|ATL|\n",
            "|1061230|    0|     369|ABE|DTW|\n",
            "|1060625|   -3|     602|ABE|ATL|\n",
            "|1070600|    0|     369|ABE|DTW|\n",
            "|1071725|    0|     602|ABE|ATL|\n",
            "|1071230|    0|     369|ABE|DTW|\n",
            "|1070625|    0|     602|ABE|ATL|\n",
            "|1071219|    0|     569|ABE|ORD|\n",
            "|1080600|    0|     369|ABE|DTW|\n",
            "+-------+-----+--------+---+---+\n",
            "only showing top 20 rows\n",
            "\n"
          ]
        }
      ],
      "source": [
        "graph = GraphFrame(vertex_df, edge_df)\n",
        "graph.vertices.show()\n",
        "graph.edges.show()"
      ]
    },
    {
      "cell_type": "markdown",
      "id": "abd2ebc6",
      "metadata": {
        "id": "abd2ebc6"
      },
      "source": [
        "### Determine the number of airports"
      ]
    },
    {
      "cell_type": "code",
      "execution_count": 17,
      "id": "f38688c9",
      "metadata": {
        "id": "f38688c9",
        "colab": {
          "base_uri": "https://localhost:8080/"
        },
        "outputId": "7d895ec2-a5e1-4c18-cc49-be2789b1e861"
      },
      "outputs": [
        {
          "output_type": "execute_result",
          "data": {
            "text/plain": [
              "524"
            ]
          },
          "metadata": {},
          "execution_count": 17
        }
      ],
      "source": [
        "graph.vertices.count()"
      ]
    },
    {
      "cell_type": "markdown",
      "id": "435187a8",
      "metadata": {
        "id": "435187a8"
      },
      "source": [
        "### Determine the number of trips"
      ]
    },
    {
      "cell_type": "code",
      "execution_count": 18,
      "id": "db2a507d",
      "metadata": {
        "id": "db2a507d",
        "colab": {
          "base_uri": "https://localhost:8080/"
        },
        "outputId": "bf20823f-7d80-48e1-cce8-0dbf54737df6"
      },
      "outputs": [
        {
          "output_type": "execute_result",
          "data": {
            "text/plain": [
              "1391578"
            ]
          },
          "metadata": {},
          "execution_count": 18
        }
      ],
      "source": [
        "graph.edges.count()"
      ]
    },
    {
      "cell_type": "markdown",
      "id": "dec8731f",
      "metadata": {
        "id": "dec8731f"
      },
      "source": [
        "### What is the longest delay?"
      ]
    },
    {
      "cell_type": "code",
      "source": [
        "from pyspark.sql.functions import *"
      ],
      "metadata": {
        "id": "iiSm4fr8c9Ks"
      },
      "id": "iiSm4fr8c9Ks",
      "execution_count": 30,
      "outputs": []
    },
    {
      "cell_type": "code",
      "execution_count": 29,
      "id": "df3d6aac",
      "metadata": {
        "id": "df3d6aac",
        "colab": {
          "base_uri": "https://localhost:8080/"
        },
        "outputId": "53edc570-ffc8-49ce-e844-36b5ed8fe701"
      },
      "outputs": [
        {
          "output_type": "execute_result",
          "data": {
            "text/plain": [
              "1642"
            ]
          },
          "metadata": {},
          "execution_count": 29
        }
      ],
      "source": [
        "graph.edges.agg(max(\"delay\")).collect()[0][0]"
      ]
    },
    {
      "cell_type": "markdown",
      "id": "202d888c",
      "metadata": {
        "id": "202d888c"
      },
      "source": [
        "### Find out the number of delayed flights vs. early flights (flights that departed before actual time)"
      ]
    },
    {
      "cell_type": "code",
      "execution_count": 31,
      "id": "7cdd7ff7",
      "metadata": {
        "id": "7cdd7ff7",
        "colab": {
          "base_uri": "https://localhost:8080/"
        },
        "outputId": "e8ecb69d-890f-40b7-e462-cd87a2cf6bdc"
      },
      "outputs": [
        {
          "output_type": "execute_result",
          "data": {
            "text/plain": [
              "591727"
            ]
          },
          "metadata": {},
          "execution_count": 31
        }
      ],
      "source": [
        "edge_df.filter(col(\"delay\") > 0).count()"
      ]
    },
    {
      "cell_type": "code",
      "source": [
        "edge_df.filter(col(\"delay\") < 0).count()"
      ],
      "metadata": {
        "colab": {
          "base_uri": "https://localhost:8080/"
        },
        "id": "OOlcIgXodPwO",
        "outputId": "7c4bd133-a45a-49ee-d642-236ed643d27a"
      },
      "id": "OOlcIgXodPwO",
      "execution_count": 32,
      "outputs": [
        {
          "output_type": "execute_result",
          "data": {
            "text/plain": [
              "668729"
            ]
          },
          "metadata": {},
          "execution_count": 32
        }
      ]
    },
    {
      "cell_type": "markdown",
      "id": "30961bc3",
      "metadata": {
        "id": "30961bc3"
      },
      "source": [
        "### What flight destinations departing SFO are most likely to have significant delays? Select the top 10\n",
        "#### Hint: you should get the average delay for each destination for trips that depart from SFO only"
      ]
    },
    {
      "cell_type": "code",
      "execution_count": 33,
      "id": "afdc6842",
      "metadata": {
        "id": "afdc6842",
        "colab": {
          "base_uri": "https://localhost:8080/"
        },
        "outputId": "4ffcb293-faa5-4207-be99-cbed9327e012"
      },
      "outputs": [
        {
          "output_type": "stream",
          "name": "stdout",
          "text": [
            "+---+------------------+\n",
            "|dst|     average_delay|\n",
            "+---+------------------+\n",
            "|JAC| 30.78846153846154|\n",
            "|OKC|24.822222222222223|\n",
            "|SUN|22.696629213483146|\n",
            "|COS| 22.58888888888889|\n",
            "|SAT|             22.16|\n",
            "|STL|         20.203125|\n",
            "|HNL|19.982608695652175|\n",
            "|ASE|19.846153846153847|\n",
            "|CEC|19.089820359281436|\n",
            "|MDW|18.771929824561404|\n",
            "+---+------------------+\n",
            "\n"
          ]
        }
      ],
      "source": [
        "sfo_flights = edge_df.filter(col(\"src\") == \"SFO\")\n",
        "avg_delay_per_destination = sfo_flights.groupBy(\"dst\").agg(avg(\"delay\").alias(\"average_delay\"))\n",
        "top_10_destinations = avg_delay_per_destination.orderBy(col(\"average_delay\").desc()).limit(10)\n",
        "top_10_destinations.show()"
      ]
    },
    {
      "cell_type": "markdown",
      "id": "71d46665",
      "metadata": {
        "id": "71d46665"
      },
      "source": [
        "### Find the Incoming connections to the airport sorted in Desc. order."
      ]
    },
    {
      "cell_type": "code",
      "execution_count": 34,
      "id": "c28925c3",
      "metadata": {
        "id": "c28925c3",
        "colab": {
          "base_uri": "https://localhost:8080/"
        },
        "outputId": "540b5211-7abd-48bf-8d36-cd331feff650"
      },
      "outputs": [
        {
          "output_type": "stream",
          "name": "stdout",
          "text": [
            "+---+-----+\n",
            "|dst|count|\n",
            "+---+-----+\n",
            "|ATL|90434|\n",
            "|DFW|66050|\n",
            "|ORD|61967|\n",
            "|LAX|53601|\n",
            "|DEN|50921|\n",
            "|IAH|42700|\n",
            "|PHX|39721|\n",
            "|SFO|38988|\n",
            "|LAS|32994|\n",
            "|CLT|28388|\n",
            "|MCO|27959|\n",
            "|EWR|27652|\n",
            "|LGA|25469|\n",
            "|BOS|25360|\n",
            "|SLC|25323|\n",
            "|JFK|23484|\n",
            "|DTW|23310|\n",
            "|SEA|23074|\n",
            "|MSP|22385|\n",
            "|MIA|21805|\n",
            "+---+-----+\n",
            "only showing top 20 rows\n",
            "\n"
          ]
        }
      ],
      "source": [
        "incoming_connections = edge_df.groupBy(\"dst\").count()\n",
        "sorted_incoming_connections = incoming_connections.orderBy(col(\"count\").desc())\n",
        "sorted_incoming_connections.show()"
      ]
    },
    {
      "cell_type": "markdown",
      "id": "d1b6509d",
      "metadata": {
        "id": "d1b6509d"
      },
      "source": [
        "### Find the Outgoing connections from the airport sorted in Desc. order."
      ]
    },
    {
      "cell_type": "code",
      "execution_count": 35,
      "id": "631af51d",
      "metadata": {
        "id": "631af51d",
        "colab": {
          "base_uri": "https://localhost:8080/"
        },
        "outputId": "da83fa00-4e54-45bd-f69c-ca1cfe6bb80e"
      },
      "outputs": [
        {
          "output_type": "stream",
          "name": "stdout",
          "text": [
            "+---+-----+\n",
            "|src|count|\n",
            "+---+-----+\n",
            "|ATL|91484|\n",
            "|DFW|68482|\n",
            "|ORD|64228|\n",
            "|LAX|54086|\n",
            "|DEN|53148|\n",
            "|IAH|43361|\n",
            "|PHX|40155|\n",
            "|SFO|39483|\n",
            "|LAS|33107|\n",
            "|CLT|28402|\n",
            "|MCO|28313|\n",
            "|EWR|27656|\n",
            "|SLC|25868|\n",
            "|LGA|25458|\n",
            "|BOS|25348|\n",
            "|MSP|24031|\n",
            "|JFK|23572|\n",
            "|DTW|23421|\n",
            "|SEA|23078|\n",
            "|MIA|21817|\n",
            "+---+-----+\n",
            "only showing top 20 rows\n",
            "\n"
          ]
        }
      ],
      "source": [
        "outgoing_connections = edge_df.groupBy(\"src\").count()\n",
        "sorted_outgoing_connections = outgoing_connections.orderBy(col(\"count\").desc())\n",
        "sorted_outgoing_connections.show()"
      ]
    },
    {
      "cell_type": "markdown",
      "id": "fbec58ce",
      "metadata": {
        "id": "fbec58ce"
      },
      "source": [
        "### Use motif finding to answer this question: which delays could we blame on SFO?\n",
        "#### Hint: this practically means that SFO is a transit station"
      ]
    },
    {
      "cell_type": "code",
      "execution_count": 36,
      "id": "db17f3df",
      "metadata": {
        "id": "db17f3df",
        "colab": {
          "base_uri": "https://localhost:8080/"
        },
        "outputId": "f7f3edf1-3768-4edb-e7b8-0181bcd68630"
      },
      "outputs": [
        {
          "output_type": "stream",
          "name": "stdout",
          "text": [
            "+---+---+-----+---+---+-----+\n",
            "|src|dst|delay|src|dst|delay|\n",
            "+---+---+-----+---+---+-----+\n",
            "|ABQ|SFO|-7   |SFO|JFK|55   |\n",
            "|ABQ|SFO|-7   |SFO|DFW|134  |\n",
            "|ABQ|SFO|-7   |SFO|ORD|32   |\n",
            "|ABQ|SFO|-7   |SFO|DFW|3    |\n",
            "|ABQ|SFO|-7   |SFO|ORD|124  |\n",
            "|ABQ|SFO|-7   |SFO|LAX|139  |\n",
            "|ABQ|SFO|-7   |SFO|JFK|133  |\n",
            "|ABQ|SFO|-7   |SFO|ORD|113  |\n",
            "|ABQ|SFO|-7   |SFO|LAX|8    |\n",
            "|ABQ|SFO|-7   |SFO|MIA|18   |\n",
            "|ABQ|SFO|-7   |SFO|DFW|2    |\n",
            "|ABQ|SFO|-7   |SFO|ORD|9    |\n",
            "|ABQ|SFO|-7   |SFO|ORD|326  |\n",
            "|ABQ|SFO|-7   |SFO|DFW|1    |\n",
            "|ABQ|SFO|-7   |SFO|ORD|34   |\n",
            "|ABQ|SFO|-7   |SFO|DFW|1    |\n",
            "|ABQ|SFO|-7   |SFO|ORD|190  |\n",
            "|ABQ|SFO|-7   |SFO|LAX|9    |\n",
            "|ABQ|SFO|-7   |SFO|JFK|111  |\n",
            "|ABQ|SFO|-7   |SFO|DFW|103  |\n",
            "+---+---+-----+---+---+-----+\n",
            "only showing top 20 rows\n",
            "\n"
          ]
        }
      ],
      "source": [
        "motifs = graph.find(\"(a)-[e1]->(b); (b)-[e2]->(c)\")\n",
        "sfo_transit_delays = motifs.filter((col(\"b.id\") == \"SFO\") & ((col(\"e1.delay\") > 0) | (col(\"e2.delay\") > 0)))\n",
        "sfo_transit_delays.select(\"e1.src\", \"e1.dst\", \"e1.delay\", \"e2.src\", \"e2.dst\", \"e2.delay\").show(truncate=False)"
      ]
    },
    {
      "cell_type": "markdown",
      "id": "cc1ece96",
      "metadata": {
        "id": "cc1ece96"
      },
      "source": [
        "### Determine Airport Ranking in Desc. order using PageRank algorithm"
      ]
    },
    {
      "cell_type": "code",
      "execution_count": 37,
      "id": "f754d545",
      "metadata": {
        "id": "f754d545",
        "colab": {
          "base_uri": "https://localhost:8080/"
        },
        "outputId": "f4457e4a-722d-43f9-b32c-0eaa2a03b703"
      },
      "outputs": [
        {
          "output_type": "stream",
          "name": "stdout",
          "text": [
            "+---+------------------+\n",
            "|id |pagerank          |\n",
            "+---+------------------+\n",
            "|ATL|30.852689637281415|\n",
            "|DFW|22.35090825185797 |\n",
            "|ORD|21.476110490648225|\n",
            "|DEN|15.864147080276451|\n",
            "|LAX|14.200409160093676|\n",
            "|IAH|13.038206739080561|\n",
            "|SFO|11.262952692947371|\n",
            "|PHX|10.61464841238288 |\n",
            "|SLC|9.46228920900108  |\n",
            "|LAS|8.571473320234631 |\n",
            "|SEA|7.548959663023094 |\n",
            "|EWR|7.180791090543533 |\n",
            "|MCO|7.160926547658392 |\n",
            "|CLT|7.143654438927901 |\n",
            "|DTW|6.890631890038128 |\n",
            "|MSP|6.7692888436047465|\n",
            "|LGA|6.737391483201898 |\n",
            "|BOS|6.219575898669399 |\n",
            "|BWI|5.761252754817864 |\n",
            "|JFK|5.7462085111883   |\n",
            "+---+------------------+\n",
            "only showing top 20 rows\n",
            "\n"
          ]
        }
      ],
      "source": [
        "results = graph.pageRank(resetProbability=0.15, maxIter=5)\n",
        "ranked_airports = results.vertices.select(\"id\", \"pagerank\").orderBy(\"pagerank\", ascending=False)\n",
        "ranked_airports.show(truncate=False)"
      ]
    },
    {
      "cell_type": "markdown",
      "id": "fe1e7648",
      "metadata": {
        "id": "fe1e7648"
      },
      "source": [
        "## Determine the most popular flights (single city hops)"
      ]
    },
    {
      "cell_type": "code",
      "execution_count": 38,
      "id": "da4b3306",
      "metadata": {
        "id": "da4b3306",
        "colab": {
          "base_uri": "https://localhost:8080/"
        },
        "outputId": "18bf169a-6bfb-41c4-fde6-982fdfc1aac5"
      },
      "outputs": [
        {
          "output_type": "stream",
          "name": "stdout",
          "text": [
            "+---+---+-----+\n",
            "|src|dst|count|\n",
            "+---+---+-----+\n",
            "|SFO|LAX|3232 |\n",
            "|LAX|SFO|3198 |\n",
            "|LAS|LAX|3016 |\n",
            "|LAX|LAS|2964 |\n",
            "|JFK|LAX|2720 |\n",
            "|LAX|JFK|2719 |\n",
            "|ATL|LGA|2501 |\n",
            "|LGA|ATL|2500 |\n",
            "|LAX|PHX|2394 |\n",
            "|PHX|LAX|2387 |\n",
            "|HNL|OGG|2380 |\n",
            "|OGG|HNL|2379 |\n",
            "|LAX|SAN|2215 |\n",
            "|SAN|LAX|2214 |\n",
            "|SJC|LAX|2208 |\n",
            "|LAX|SJC|2201 |\n",
            "|ATL|MCO|2136 |\n",
            "|MCO|ATL|2090 |\n",
            "|SFO|JFK|2084 |\n",
            "|JFK|SFO|2084 |\n",
            "+---+---+-----+\n",
            "only showing top 20 rows\n",
            "\n"
          ]
        }
      ],
      "source": [
        "popular_flights = edge_df.groupBy(\"src\", \"dst\").count()\n",
        "sorted_popular_flights = popular_flights.orderBy(col(\"count\").desc())\n",
        "sorted_popular_flights.show(truncate=False)"
      ]
    },
    {
      "cell_type": "markdown",
      "id": "8ebb5e18",
      "metadata": {
        "id": "8ebb5e18"
      },
      "source": [
        "### Find and Save a Subragph that obtained from the following pattern:\n",
        "#### The flight starts from an airport and return back to the same airport through 2 other airports."
      ]
    },
    {
      "cell_type": "code",
      "source": [
        "matching_subgraphs = graph.find(\"(a)-[e1]->(b); (b)-[e2]->(c); (c)-[e3]->(a)\")\n",
        "matching_subgraphs.write.parquet(\"matching_subgraphs.parquet\")\n",
        "print(\"Matching Subgraphs:\")\n",
        "#matching_subgraphs.select(\"A\", \"B\", \"C\").show()"
      ],
      "metadata": {
        "id": "FassUAeEiymO"
      },
      "id": "FassUAeEiymO",
      "execution_count": null,
      "outputs": []
    }
  ],
  "metadata": {
    "kernelspec": {
      "display_name": "Python 3 (ipykernel)",
      "language": "python",
      "name": "python3"
    },
    "language_info": {
      "codemirror_mode": {
        "name": "ipython",
        "version": 3
      },
      "file_extension": ".py",
      "mimetype": "text/x-python",
      "name": "python",
      "nbconvert_exporter": "python",
      "pygments_lexer": "ipython3",
      "version": "3.9.12"
    },
    "colab": {
      "provenance": []
    }
  },
  "nbformat": 4,
  "nbformat_minor": 5
}